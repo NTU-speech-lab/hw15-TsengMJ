{
 "cells": [
  {
   "cell_type": "markdown",
   "metadata": {
    "colab_type": "text",
    "id": "Fp30SB4bxeQb"
   },
   "source": [
    "# **Homework 15 - Reinforcement Learning**\n",
    "\n",
    "若有任何問題，歡迎來信至助教信箱 ntu-ml-2020spring-ta@googlegroups.com\n",
    "\n"
   ]
  },
  {
   "cell_type": "markdown",
   "metadata": {
    "colab_type": "text",
    "id": "yXsnCWPtWSNk"
   },
   "source": [
    "## 前置作業\n",
    "\n",
    "首先我們需要安裝必要的系統套件及 PyPi 套件。\n",
    "gym 這個套件由 OpenAI 所提供，是一套用來開發與比較 Reinforcement Learning 演算法的工具包（toolkit）。\n",
    "而其餘套件則是為了在 Notebook 中繪圖所需要的套件。"
   ]
  },
  {
   "cell_type": "code",
   "execution_count": 1,
   "metadata": {
    "colab": {},
    "colab_type": "code",
    "id": "nl2nREINDLiw"
   },
   "outputs": [],
   "source": [
    "%matplotlib inline\n",
    "import matplotlib.pyplot as plt\n",
    "\n",
    "from IPython import display\n",
    "\n",
    "import numpy as np\n",
    "import torch\n",
    "import torch.nn as nn\n",
    "import torch.optim as optim\n",
    "import torch.nn.functional as F\n",
    "from torch.distributions import Categorical\n",
    "# from tqdm import tqdm_notebook\n",
    "from tqdm.notebook import tqdm"
   ]
  },
  {
   "cell_type": "markdown",
   "metadata": {
    "colab_type": "text",
    "id": "He0XDx6bzjgC"
   },
   "source": [
    "最後，引入 OpenAI 的 gym，並建立一個 [Lunar Lander](https://gym.openai.com/envs/LunarLander-v2/) 環境。"
   ]
  },
  {
   "cell_type": "code",
   "execution_count": 2,
   "metadata": {
    "colab": {},
    "colab_type": "code",
    "id": "N_4-xJcbBt09"
   },
   "outputs": [],
   "source": [
    "%%capture\n",
    "import gym\n",
    "env = gym.make('LunarLander-v2')"
   ]
  },
  {
   "cell_type": "markdown",
   "metadata": {
    "colab_type": "text",
    "id": "F5paWqo7tWL2"
   },
   "source": [
    "## Policy Gradient\n",
    "\n",
    "現在來搭建一個簡單的 policy network。\n",
    "我們預設模型的輸入是 8-dim 的 observation，輸出則是離散的四個動作之一："
   ]
  },
  {
   "cell_type": "code",
   "execution_count": 3,
   "metadata": {
    "colab": {},
    "colab_type": "code",
    "id": "J8tdmeD-tZew"
   },
   "outputs": [],
   "source": [
    "class PolicyGradientNetwork(nn.Module):\n",
    "\n",
    "    def __init__(self):\n",
    "        super().__init__()\n",
    "        self.fc1 = nn.Linear(8, 128)\n",
    "        self.fc2 = nn.Linear(128, 256)\n",
    "        self.fc3 = nn.Linear(256, 4)\n",
    "\n",
    "    def forward(self, state):\n",
    "        hid = torch.tanh(self.fc1(state))\n",
    "        hid = torch.tanh(self.fc2(hid))\n",
    "        return F.softmax(self.fc3(hid), dim=-1)\n",
    "\n",
    "# class PolicyGradientNetwork(nn.Module):\n",
    "\n",
    "#     def __init__(self):\n",
    "#         super().__init__()\n",
    "#         self.fc1 = nn.Linear(8, 16)\n",
    "#         self.fc2 = nn.Linear(16, 16)\n",
    "#         self.fc3 = nn.Linear(16, 4)\n",
    "\n",
    "#     def forward(self, state):\n",
    "#         hid = torch.tanh(self.fc1(state))\n",
    "#         hid = torch.tanh(self.fc2(hid))\n",
    "#         return F.softmax(self.fc3(hid), dim=-1)"
   ]
  },
  {
   "cell_type": "markdown",
   "metadata": {
    "colab_type": "text",
    "id": "ynbqJrhIFTC3"
   },
   "source": [
    "再來，搭建一個簡單的 agent，並搭配上方的 policy network 來採取行動。\n",
    "這個 agent 能做到以下幾件事：\n",
    "- `learn()`：從記下來的 log probabilities 及 rewards 來更新 policy network。\n",
    "- `sample()`：從 environment 得到 observation 之後，利用 policy network 得出應該採取的行動。\n",
    "而此函式除了回傳抽樣出來的 action，也會回傳此次抽樣的 log probabilities。"
   ]
  },
  {
   "cell_type": "code",
   "execution_count": 4,
   "metadata": {
    "colab": {},
    "colab_type": "code",
    "id": "zZo-IxJx286z"
   },
   "outputs": [],
   "source": [
    "class PolicyGradientAgent():\n",
    "\n",
    "    def __init__(self, network):\n",
    "        self.network = network\n",
    "#         self.optimizer = optim.Adam(self.network.parameters())\n",
    "        self.optimizer = optim.SGD(self.network.parameters(), lr=0.001)\n",
    "\n",
    "    def learn(self, log_probs, rewards):\n",
    "        loss = (-log_probs * rewards).sum()\n",
    "\n",
    "        self.optimizer.zero_grad()\n",
    "        loss.backward()\n",
    "        self.optimizer.step()\n",
    "\n",
    "    def sample(self, state):\n",
    "        action_prob = self.network(torch.FloatTensor(state))\n",
    "        action_dist = Categorical(action_prob)\n",
    "        action = action_dist.sample()\n",
    "        log_prob = action_dist.log_prob(action)\n",
    "        return action.item(), log_prob"
   ]
  },
  {
   "cell_type": "markdown",
   "metadata": {},
   "source": [
    "## Critic"
   ]
  },
  {
   "cell_type": "code",
   "execution_count": 5,
   "metadata": {},
   "outputs": [],
   "source": [
    "class CriticNetwork(nn.Module):\n",
    "    def __init__(self):\n",
    "        super().__init__()\n",
    "        self.fc1 = nn.Linear(8, 128)\n",
    "        self.fc2 = nn.Linear(128, 256)\n",
    "        self.fc3 = nn.Linear(256, 1)\n",
    "\n",
    "    def forward(self, state):\n",
    "        x = torch.tanh(self.fc1(state))\n",
    "        x = torch.tanh(self.fc2(x))\n",
    "        x = self.fc3(x)\n",
    "        return x"
   ]
  },
  {
   "cell_type": "code",
   "execution_count": 6,
   "metadata": {},
   "outputs": [],
   "source": [
    "class Critic():\n",
    "\n",
    "    def __init__(self, network):\n",
    "        self.network = network\n",
    "        self.optimizer = optim.SGD(self.network.parameters(), lr=0.001)\n",
    "        self.mseLoss = nn.MSELoss()\n",
    "        \n",
    "    def learn(self, pred_rewards, final_rewards):\n",
    "        loss = ((pred_rewards - final_rewards)**2).sum()\n",
    "\n",
    "        self.optimizer.zero_grad()\n",
    "        loss.backward()\n",
    "        self.optimizer.step()\n",
    "\n",
    "#     def learn(self, advantages):\n",
    "#         loss = (advantages**2).sum()\n",
    "\n",
    "#         self.optimizer.zero_grad()\n",
    "#         loss.backward()\n",
    "#         self.optimizer.step()\n",
    "\n",
    "    def predict(self, state):\n",
    "        base_score = self.network(torch.FloatTensor(state))\n",
    "        \n",
    "        return base_score"
   ]
  },
  {
   "cell_type": "markdown",
   "metadata": {
    "colab_type": "text",
    "id": "ouv23glgf5Qt"
   },
   "source": [
    "## 訓練 Agent\n",
    "\n",
    "現在我們開始訓練 actor。\n",
    "透過讓 actor 和 environment 互動，我們記住每一組對應的 log probabilities 及 reward，並在成功登陸或者不幸墜毀後，回放這些「記憶」來訓練 policy network。"
   ]
  },
  {
   "cell_type": "code",
   "execution_count": 7,
   "metadata": {},
   "outputs": [],
   "source": [
    "# def compute_returns(next_value, rewards, masks, gamma=0.99):\n",
    "#     R = next_value\n",
    "#     returns = []\n",
    "#     for step in reversed(range(len(rewards))):\n",
    "#         R = rewards[step] + gamma * R * masks[step]\n",
    "#         returns.insert(0, R)\n",
    "#     return returns\n"
   ]
  },
  {
   "cell_type": "code",
   "execution_count": 8,
   "metadata": {
    "scrolled": false
   },
   "outputs": [],
   "source": [
    "# from itertools import count\n",
    "\n",
    "# device = torch.device(\"cuda\" if torch.cuda.is_available() else \"cpu\")\n",
    "\n",
    "# ## Create Models\n",
    "# # actor = PolicyGradientNetwork().to(device)\n",
    "# # critic = CriticNetwork().to(device)\n",
    "# actor = PolicyGradientNetwork()\n",
    "# critic = CriticNetwork()\n",
    "\n",
    "\n",
    "# ## Create Optimizers\n",
    "# # optimizerA = optim.Adam(actor.parameters())\n",
    "# # optimizerC = optim.Adam(critic.parameters())\n",
    "# optimizerA = optim.SGD(actor.parameters(), lr=0.001)\n",
    "# optimizerC = optim.SGD(critic.parameters(), lr=0.001)\n",
    "\n",
    "# actor.train()\n",
    "# critic.train()\n",
    "\n",
    "# EPISODE_PER_BATCH = 20  # 每蒐集 5 個 episodes 更新一次 actor\n",
    "# NUM_BATCH = 400       # 總共更新 400 次\n",
    "\n",
    "# avg_total_rewards, avg_final_rewards = [], []\n",
    "\n",
    "# prg_bar = tqdm(range(NUM_BATCH))\n",
    "# for batch in prg_bar:\n",
    "    \n",
    "#     actor_loss = 0\n",
    "#     critic_loss = 0\n",
    "    \n",
    "#     for episode in range(EPISODE_PER_BATCH):\n",
    "#         state = env.reset()\n",
    "#         log_probs = []\n",
    "#         values = []\n",
    "#         rewards = []\n",
    "#         masks = []\n",
    "\n",
    "#         for i in count():\n",
    "\n",
    "#             ## Get action from actor and value \n",
    "# #             state = torch.FloatTensor(state).to(device)\n",
    "#             state = torch.FloatTensor(state)\n",
    "#             value = critic(state)\n",
    "\n",
    "#             action_prob = actor(state)        \n",
    "#             dist = Categorical(action_prob)\n",
    "\n",
    "#             action = dist.sample()\n",
    "#             log_prob = dist.log_prob(action).unsqueeze(0)\n",
    "\n",
    "#             ## Update env and get reward\n",
    "#             next_state, reward, done, _ = env.step(action.cpu().numpy())\n",
    "\n",
    "#             ## Record infors: log_porbs, values, rewards, masks\n",
    "#             log_probs.append(log_prob)\n",
    "#             values.append(value)\n",
    "# #             rewards.append(torch.tensor([reward], dtype=torch.float, device=device))\n",
    "# #             masks.append(torch.tensor([1-done], dtype=torch.float, device=device))\n",
    "#             rewards.append(torch.tensor([reward], dtype=torch.float))\n",
    "#             masks.append(torch.tensor([1-done], dtype=torch.float))\n",
    "\n",
    "#             ## Update state\n",
    "#             state = next_state\n",
    "\n",
    "#             if done:\n",
    "#                 break\n",
    "\n",
    "\n",
    "# #         next_state = torch.FloatTensor(next_state).to(device)\n",
    "#         next_state = torch.FloatTensor(next_state)\n",
    "#         next_value = critic(next_state)\n",
    "#         returns = compute_returns(next_value, rewards, masks)\n",
    "\n",
    "#         log_probs = torch.cat(log_probs)\n",
    "#         returns = torch.cat(returns).detach()\n",
    "#         values = torch.cat(values)\n",
    "\n",
    "#         advantage = returns - values\n",
    "\n",
    "#         ## Caculate loss\n",
    "#         actor_loss += -(log_probs * advantage.detach()).mean()\n",
    "#         critic_loss += advantage.pow(2).mean()\n",
    "    \n",
    "#     ## Update model\n",
    "#     actor_avg_loss = actor_loss / EPISODE_PER_BATCH\n",
    "#     critic_avg_loss = critic_loss / EPISODE_PER_BATCH\n",
    "    \n",
    "#     optimizerA.zero_grad()\n",
    "#     optimizerC.zero_grad()\n",
    "#     actor_avg_loss.backward()\n",
    "#     critic_avg_loss.backward()\n",
    "#     optimizerA.step()\n",
    "#     optimizerC.step()\n",
    "    \n",
    "#     total_reward = sum(rewards)\n",
    "#     final_reward = reward\n",
    "#     avg_total_rewards.append(total_reward)\n",
    "#     avg_final_rewards.append(final_reward)\n",
    "    \n",
    "#     prg_bar.set_description(f\"Total: {total_reward[0]: 4.1f}, Final: {reward: 4.1f}\")\n",
    "    \n",
    "# torch.save(actor, 'model/actor.pkl')\n",
    "# torch.save(critic, 'model/critic.pkl')\n",
    "# env.close()\n"
   ]
  },
  {
   "cell_type": "markdown",
   "metadata": {},
   "source": [
    "### Ori"
   ]
  },
  {
   "cell_type": "code",
   "execution_count": null,
   "metadata": {},
   "outputs": [],
   "source": []
  },
  {
   "cell_type": "code",
   "execution_count": 9,
   "metadata": {},
   "outputs": [],
   "source": [
    "network = PolicyGradientNetwork()\n",
    "actor = PolicyGradientAgent(network)\n",
    "\n",
    "## If add critic\n",
    "critic_network = CriticNetwork()\n",
    "critic = Critic(critic_network)"
   ]
  },
  {
   "cell_type": "code",
   "execution_count": 10,
   "metadata": {
    "colab": {
     "base_uri": "https://localhost:8080/",
     "height": 66,
     "referenced_widgets": [
      "d2e1e0c3e1eb4ccdbcf0c967bf0eee33",
      "3c829c8fec5d4946a7d5706124d62349",
      "2c0904cdfda1441798924a8f09aac31d",
      "5d40358b4dd74db99d75565dd358e2c8",
      "d6c316e2f0cb452bb37313a82aad5d2d",
      "334291aea9a545289bb784158a4e6e69",
      "df43f60308ba4980951a3919d366f004",
      "39ae32308319471c9160569b37dd75a5"
     ]
    },
    "colab_type": "code",
    "id": "vg5rxBBaf38_",
    "outputId": "a2f18cc1-4704-469d-a143-a8e5edf7a312"
   },
   "outputs": [
    {
     "data": {
      "application/vnd.jupyter.widget-view+json": {
       "model_id": "ec40e4b89bc340e4b53366ed19eb2357",
       "version_major": 2,
       "version_minor": 0
      },
      "text/plain": [
       "HBox(children=(FloatProgress(value=0.0, max=400.0), HTML(value='')))"
      ]
     },
     "metadata": {},
     "output_type": "display_data"
    },
    {
     "name": "stdout",
     "output_type": "stream",
     "text": [
      "\n"
     ]
    }
   ],
   "source": [
    "actor.network.train()  # 訓練前，先確保 network 處在 training 模式\n",
    "EPISODE_PER_BATCH = 20  # 每蒐集 5 個 episodes 更新一次 actor\n",
    "NUM_BATCH = 400        # 總共更新 400 次\n",
    "\n",
    "avg_total_rewards, avg_final_rewards = [], []\n",
    "\n",
    "prg_bar = tqdm(range(NUM_BATCH))\n",
    "for batch in prg_bar:\n",
    "\n",
    "    log_probs, rewards = [], []\n",
    "    total_rewards, final_rewards = [], []\n",
    "\n",
    "    # 蒐集訓練資料\n",
    "    for episode in range(EPISODE_PER_BATCH):\n",
    "        \n",
    "        state = env.reset()\n",
    "        total_reward, total_step = 0, 0\n",
    "\n",
    "        while True:\n",
    "\n",
    "            action, log_prob = actor.sample(state)\n",
    "            next_state, reward, done, _ = env.step(action)\n",
    "\n",
    "            log_probs.append(log_prob)\n",
    "            state = next_state\n",
    "            total_reward += reward\n",
    "            total_step += 1\n",
    "\n",
    "            if done:\n",
    "                final_rewards.append(reward)\n",
    "                total_rewards.append(total_reward)\n",
    "                rewards.append(np.full(total_step, total_reward))  # 設定同一個 episode 每個 action 的 reward 都是 total reward\n",
    "                break\n",
    "\n",
    "    # 紀錄訓練過程\n",
    "    avg_total_reward = sum(total_rewards) / len(total_rewards)\n",
    "    avg_final_reward = sum(final_rewards) / len(final_rewards)\n",
    "    avg_total_rewards.append(avg_total_reward)\n",
    "    avg_final_rewards.append(avg_final_reward)\n",
    "    prg_bar.set_description(f\"Total: {avg_total_reward: 4.1f}, Final: {avg_final_reward: 4.1f}\")\n",
    "\n",
    "    # 更新網路\n",
    "    rewards = np.concatenate(rewards, axis=0)\n",
    "    rewards = (rewards - np.mean(rewards)) / (np.std(rewards) + 1e-9)  # 將 reward 正規標準化\n",
    "    \n",
    "    actor.learn(torch.stack(log_probs), torch.from_numpy(rewards))"
   ]
  },
  {
   "cell_type": "markdown",
   "metadata": {
    "colab_type": "text",
    "id": "vNb_tuFYhKVK"
   },
   "source": [
    "### 訓練結果\n",
    "\n",
    "訓練過程中，我們持續記下了 `avg_total_reward`，這個數值代表的是：每次更新 policy network 前，我們讓 agent 玩數個回合（episodes），而這些回合的平均 total rewards 為何。\n",
    "理論上，若是 agent 一直在進步，則所得到的 `avg_total_reward` 也會持續上升，直至 250 上下。\n",
    "若將其畫出來則結果如下："
   ]
  },
  {
   "cell_type": "code",
   "execution_count": 11,
   "metadata": {
    "colab": {
     "base_uri": "https://localhost:8080/",
     "height": 281
    },
    "colab_type": "code",
    "id": "wZYOI8H10SHN",
    "outputId": "167e83af-cf1b-4424-cd3c-be7adb1db2bb"
   },
   "outputs": [
    {
     "data": {
      "image/png": "[encoded data removed]",
      "text/plain": [
       "<Figure size 432x288 with 1 Axes>"
      ]
     },
     "metadata": {
      "needs_background": "light"
     },
     "output_type": "display_data"
    }
   ],
   "source": [
    "plt.plot(avg_total_rewards)\n",
    "plt.title(\"Total Rewards\")\n",
    "plt.show()"
   ]
  },
  {
   "cell_type": "markdown",
   "metadata": {
    "colab_type": "text",
    "id": "mV5jj4dThz0Y"
   },
   "source": [
    "另外，`avg_final_reward` 代表的是多個回合的平均 final rewards，而 final reward 即是 agent 在單一回合中拿到的最後一個 reward。\n",
    "如果同學們還記得環境給予登月小艇 reward 的方式，便會知道，不論**回合的最後**小艇是不幸墜毀、飛出畫面、或是靜止在地面上，都會受到額外地獎勵或處罰。\n",
    "也因此，final reward 可被用來觀察 agent 的「著地」是否順利等資訊。"
   ]
  },
  {
   "cell_type": "code",
   "execution_count": 12,
   "metadata": {
    "colab": {
     "base_uri": "https://localhost:8080/",
     "height": 281
    },
    "colab_type": "code",
    "id": "txDZ5vlGWz5w",
    "outputId": "257d0dd8-958c-4034-9a3c-f771d4e7fac7"
   },
   "outputs": [
    {
     "data": {
      "image/png": "[encoded data removed]",
      "text/plain": [
       "<Figure size 432x288 with 1 Axes>"
      ]
     },
     "metadata": {
      "needs_background": "light"
     },
     "output_type": "display_data"
    }
   ],
   "source": [
    "plt.plot(avg_final_rewards)\n",
    "plt.title(\"Final Rewards\")\n",
    "plt.show()"
   ]
  },
  {
   "cell_type": "markdown",
   "metadata": {
    "colab_type": "text",
    "id": "u2HaGRVEYGQS"
   },
   "source": [
    "## 測試"
   ]
  },
  {
   "cell_type": "code",
   "execution_count": 13,
   "metadata": {
    "colab": {
     "base_uri": "https://localhost:8080/",
     "height": 269
    },
    "colab_type": "code",
    "id": "5yFuUKKRYH73",
    "outputId": "7fcd1ebc-984e-41a3-fa92-6f2b7737799e"
   },
   "outputs": [],
   "source": [
    "# actor.network.eval()  # 測試前先將 network 切換為 evaluation 模式\n",
    "\n",
    "# state = env.reset()\n",
    "\n",
    "# img = plt.imshow(env.render(mode='rgb_array'))\n",
    "\n",
    "# total_reward = 0\n",
    "\n",
    "# done = False\n",
    "# while not done:\n",
    "#     action, _ = actor.sample(state)\n",
    "#     state, reward, done, _ = env.step(action)\n",
    "\n",
    "#     total_reward += reward\n",
    "\n",
    "#     img.set_data(env.render(mode='rgb_array'))\n",
    "#     display.display(plt.gcf())\n",
    "#     display.clear_output(wait=True)"
   ]
  },
  {
   "cell_type": "code",
   "execution_count": 14,
   "metadata": {
    "colab": {
     "base_uri": "https://localhost:8080/",
     "height": 35
    },
    "colab_type": "code",
    "id": "Aex7mcKr0J01",
    "outputId": "70ff75e6-495a-4d0c-ef1b-f2d5b6926948"
   },
   "outputs": [
    {
     "name": "stdout",
     "output_type": "stream",
     "text": [
      "273.34133247620673\n"
     ]
    }
   ],
   "source": [
    "print(total_reward)"
   ]
  },
  {
   "cell_type": "code",
   "execution_count": 15,
   "metadata": {},
   "outputs": [
    {
     "name": "stdout",
     "output_type": "stream",
     "text": [
      "100\n"
     ]
    }
   ],
   "source": [
    "print(reward)"
   ]
  },
  {
   "cell_type": "markdown",
   "metadata": {
    "colab_type": "text",
    "id": "wUBtYXG2eaqf"
   },
   "source": [
    "## 參考資料\n",
    "\n",
    "以下是一些有用的參考資料。\n",
    "建議同學們實做前，可以先參考第一則連結的上課影片。\n",
    "在影片的最後有提到兩個有用的 Tips，這對於本次作業的實做非常有幫助。\n",
    "\n",
    "- [DRL Lecture 1: Policy Gradient (Review)](https://youtu.be/z95ZYgPgXOY)\n",
    "- [ML Lecture 23-3: Reinforcement Learning (including Q-learning) start at 30:00](https://youtu.be/2-JNBzCq77c?t=1800)\n",
    "- [Lecture 7: Policy Gradient, David Silver](http://www0.cs.ucl.ac.uk/staff/d.silver/web/Teaching_files/pg.pdf)\n"
   ]
  }
 ],
 "metadata": {
  "colab": {
   "collapsed_sections": [],
   "name": "hw15_reinforcement_learning.ipynb",
   "provenance": [],
   "toc_visible": true
  },
  "kernelspec": {
   "display_name": "Python 3",
   "language": "python",
   "name": "python3"
  },
  "language_info": {
   "codemirror_mode": {
    "name": "ipython",
    "version": 3
   },
   "file_extension": ".py",
   "mimetype": "text/x-python",
   "name": "python",
   "nbconvert_exporter": "python",
   "pygments_lexer": "ipython3",
   "version": "3.6.10"
  },
  "widgets": {
   "application/vnd.jupyter.widget-state+json": {
    "2c0904cdfda1441798924a8f09aac31d": {
     "model_module": "@jupyter-widgets/controls",
     "model_name": "IntProgressModel",
     "state": {
      "_dom_classes": [],
      "_model_module": "@jupyter-widgets/controls",
      "_model_module_version": "1.5.0",
      "_model_name": "IntProgressModel",
      "_view_count": null,
      "_view_module": "@jupyter-widgets/controls",
      "_view_module_version": "1.5.0",
      "_view_name": "ProgressView",
      "bar_style": "success",
      "description": "Total: -76.2, Final: -100.0",
      "description_tooltip": null,
      "layout": "IPY_MODEL_334291aea9a545289bb784158a4e6e69",
      "max": 400,
      "min": 0,
      "orientation": "horizontal",
      "style": "IPY_MODEL_d6c316e2f0cb452bb37313a82aad5d2d",
      "value": 400
     }
    },
    "334291aea9a545289bb784158a4e6e69": {
     "model_module": "@jupyter-widgets/base",
     "model_name": "LayoutModel",
     "state": {
      "_model_module": "@jupyter-widgets/base",
      "_model_module_version": "1.2.0",
      "_model_name": "LayoutModel",
      "_view_count": null,
      "_view_module": "@jupyter-widgets/base",
      "_view_module_version": "1.2.0",
      "_view_name": "LayoutView",
      "align_content": null,
      "align_items": null,
      "align_self": null,
      "border": null,
      "bottom": null,
      "display": null,
      "flex": null,
      "flex_flow": null,
      "grid_area": null,
      "grid_auto_columns": null,
      "grid_auto_flow": null,
      "grid_auto_rows": null,
      "grid_column": null,
      "grid_gap": null,
      "grid_row": null,
      "grid_template_areas": null,
      "grid_template_columns": null,
      "grid_template_rows": null,
      "height": null,
      "justify_content": null,
      "justify_items": null,
      "left": null,
      "margin": null,
      "max_height": null,
      "max_width": null,
      "min_height": null,
      "min_width": null,
      "object_fit": null,
      "object_position": null,
      "order": null,
      "overflow": null,
      "overflow_x": null,
      "overflow_y": null,
      "padding": null,
      "right": null,
      "top": null,
      "visibility": null,
      "width": null
     }
    },
    "39ae32308319471c9160569b37dd75a5": {
     "model_module": "@jupyter-widgets/base",
     "model_name": "LayoutModel",
     "state": {
      "_model_module": "@jupyter-widgets/base",
      "_model_module_version": "1.2.0",
      "_model_name": "LayoutModel",
      "_view_count": null,
      "_view_module": "@jupyter-widgets/base",
      "_view_module_version": "1.2.0",
      "_view_name": "LayoutView",
      "align_content": null,
      "align_items": null,
      "align_self": null,
      "border": null,
      "bottom": null,
      "display": null,
      "flex": null,
      "flex_flow": null,
      "grid_area": null,
      "grid_auto_columns": null,
      "grid_auto_flow": null,
      "grid_auto_rows": null,
      "grid_column": null,
      "grid_gap": null,
      "grid_row": null,
      "grid_template_areas": null,
      "grid_template_columns": null,
      "grid_template_rows": null,
      "height": null,
      "justify_content": null,
      "justify_items": null,
      "left": null,
      "margin": null,
      "max_height": null,
      "max_width": null,
      "min_height": null,
      "min_width": null,
      "object_fit": null,
      "object_position": null,
      "order": null,
      "overflow": null,
      "overflow_x": null,
      "overflow_y": null,
      "padding": null,
      "right": null,
      "top": null,
      "visibility": null,
      "width": null
     }
    },
    "3c829c8fec5d4946a7d5706124d62349": {
     "model_module": "@jupyter-widgets/base",
     "model_name": "LayoutModel",
     "state": {
      "_model_module": "@jupyter-widgets/base",
      "_model_module_version": "1.2.0",
      "_model_name": "LayoutModel",
      "_view_count": null,
      "_view_module": "@jupyter-widgets/base",
      "_view_module_version": "1.2.0",
      "_view_name": "LayoutView",
      "align_content": null,
      "align_items": null,
      "align_self": null,
      "border": null,
      "bottom": null,
      "display": null,
      "flex": null,
      "flex_flow": null,
      "grid_area": null,
      "grid_auto_columns": null,
      "grid_auto_flow": null,
      "grid_auto_rows": null,
      "grid_column": null,
      "grid_gap": null,
      "grid_row": null,
      "grid_template_areas": null,
      "grid_template_columns": null,
      "grid_template_rows": null,
      "height": null,
      "justify_content": null,
      "justify_items": null,
      "left": null,
      "margin": null,
      "max_height": null,
      "max_width": null,
      "min_height": null,
      "min_width": null,
      "object_fit": null,
      "object_position": null,
      "order": null,
      "overflow": null,
      "overflow_x": null,
      "overflow_y": null,
      "padding": null,
      "right": null,
      "top": null,
      "visibility": null,
      "width": null
     }
    },
    "5d40358b4dd74db99d75565dd358e2c8": {
     "model_module": "@jupyter-widgets/controls",
     "model_name": "HTMLModel",
     "state": {
      "_dom_classes": [],
      "_model_module": "@jupyter-widgets/controls",
      "_model_module_version": "1.5.0",
      "_model_name": "HTMLModel",
      "_view_count": null,
      "_view_module": "@jupyter-widgets/controls",
      "_view_module_version": "1.5.0",
      "_view_name": "HTMLView",
      "description": "",
      "description_tooltip": null,
      "layout": "IPY_MODEL_39ae32308319471c9160569b37dd75a5",
      "placeholder": "​",
      "style": "IPY_MODEL_df43f60308ba4980951a3919d366f004",
      "value": "100% 400/400 [02:35&lt;00:00,  2.28it/s]"
     }
    },
    "d2e1e0c3e1eb4ccdbcf0c967bf0eee33": {
     "model_module": "@jupyter-widgets/controls",
     "model_name": "HBoxModel",
     "state": {
      "_dom_classes": [],
      "_model_module": "@jupyter-widgets/controls",
      "_model_module_version": "1.5.0",
      "_model_name": "HBoxModel",
      "_view_count": null,
      "_view_module": "@jupyter-widgets/controls",
      "_view_module_version": "1.5.0",
      "_view_name": "HBoxView",
      "box_style": "",
      "children": [
       "IPY_MODEL_2c0904cdfda1441798924a8f09aac31d",
       "IPY_MODEL_5d40358b4dd74db99d75565dd358e2c8"
      ],
      "layout": "IPY_MODEL_3c829c8fec5d4946a7d5706124d62349"
     }
    },
    "d6c316e2f0cb452bb37313a82aad5d2d": {
     "model_module": "@jupyter-widgets/controls",
     "model_name": "ProgressStyleModel",
     "state": {
      "_model_module": "@jupyter-widgets/controls",
      "_model_module_version": "1.5.0",
      "_model_name": "ProgressStyleModel",
      "_view_count": null,
      "_view_module": "@jupyter-widgets/base",
      "_view_module_version": "1.2.0",
      "_view_name": "StyleView",
      "bar_color": null,
      "description_width": "initial"
     }
    },
    "df43f60308ba4980951a3919d366f004": {
     "model_module": "@jupyter-widgets/controls",
     "model_name": "DescriptionStyleModel",
     "state": {
      "_model_module": "@jupyter-widgets/controls",
      "_model_module_version": "1.5.0",
      "_model_name": "DescriptionStyleModel",
      "_view_count": null,
      "_view_module": "@jupyter-widgets/base",
      "_view_module_version": "1.2.0",
      "_view_name": "StyleView",
      "description_width": ""
     }
    }
   }
  }
 },
 "nbformat": 4,
 "nbformat_minor": 1
}
